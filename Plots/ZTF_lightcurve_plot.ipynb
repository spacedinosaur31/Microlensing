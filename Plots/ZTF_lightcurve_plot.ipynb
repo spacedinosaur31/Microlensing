{
 "cells": [
  {
   "cell_type": "code",
   "execution_count": 9,
   "metadata": {},
   "outputs": [
    {
     "name": "stdout",
     "output_type": "stream",
     "text": [
      "               objectid  filterid  fieldid  rcid       objra     objdec  \\\n",
      "0      1896210300000000         2     1896    38   97.417465  88.338005   \n",
      "1      1896210300000001         2     1896    38  105.025452  88.299644   \n",
      "2      1896210300000002         2     1896    38   98.010201  88.334671   \n",
      "6      1896210300000006         2     1896    38  117.648514  88.159065   \n",
      "11     1896210300000011         2     1896    38  109.331482  88.260864   \n",
      "...                 ...       ...      ...   ...         ...        ...   \n",
      "29099  1896210300029099         2     1896    38   91.990921  88.296753   \n",
      "29115  1896210300029115         2     1896    38  111.127792  87.475769   \n",
      "29123  1896210300029123         2     1896    38  108.801079  87.470268   \n",
      "29128  1896210300029128         2     1896    38  113.539032  88.198639   \n",
      "29131  1896210300029131         2     1896    38  100.176620  88.075134   \n",
      "\n",
      "       nepochs                                               hmjd  \\\n",
      "0            8  [58771.484, 58771.49, 58833.344, 58833.344, 58...   \n",
      "1            8  [58771.484, 58771.484, 58833.344, 58833.344, 5...   \n",
      "2            8  [58771.484, 58771.484, 58833.344, 58833.344, 5...   \n",
      "6           10  [58771.484, 58771.484, 58828.246, 58828.246, 5...   \n",
      "11           1                                        [58856.207]   \n",
      "...        ...                                                ...   \n",
      "29099        1                                        [58770.387]   \n",
      "29115        3                   [58770.387, 58771.484, 58856.21]   \n",
      "29123        1                                        [58773.363]   \n",
      "29128        1                                        [58828.246]   \n",
      "29131        1                                        [58828.246]   \n",
      "\n",
      "                                                     mag  \\\n",
      "0      [18.315838, 18.465717, 18.243647, 18.358345, 1...   \n",
      "1      [17.525364, 17.531258, 17.508823, 17.555532, 1...   \n",
      "2      [13.955345, 13.908521, 13.913451, 13.955017, 1...   \n",
      "6      [17.52568, 17.548553, 17.573029, 17.53999, 17....   \n",
      "11                                            [19.94337]   \n",
      "...                                                  ...   \n",
      "29099                                          [19.4691]   \n",
      "29115                    [18.74208, 18.51715, 19.306429]   \n",
      "29123                                        [18.705536]   \n",
      "29128                                         [18.69364]   \n",
      "29131                                        [19.204851]   \n",
      "\n",
      "                                                  magerr  \\\n",
      "0      [0.04780162, 0.05373898, 0.045185275, 0.049414...   \n",
      "1      [0.026336191, 0.026446383, 0.026030201, 0.0269...   \n",
      "2      [0.011330205, 0.011390138, 0.011383751, 0.0113...   \n",
      "6      [0.026342105, 0.02677333, 0.027245166, 0.02661...   \n",
      "11                                          [0.14812733]   \n",
      "...                                                  ...   \n",
      "29099                                         [0.113019]   \n",
      "29115              [0.06661767, 0.055940934, 0.10121088]   \n",
      "29123                                       [0.06476392]   \n",
      "29128                                      [0.064170636]   \n",
      "29131                                      [0.094192885]   \n",
      "\n",
      "                                                clrcoeff  \\\n",
      "0      [0.109213956, 0.10694434, 0.12412883, 0.100964...   \n",
      "1      [0.109213956, 0.10694434, 0.12412883, 0.100964...   \n",
      "2      [0.109213956, 0.10694434, 0.12412883, 0.100964...   \n",
      "6      [0.109213956, 0.10694434, 0.105648525, 0.10181...   \n",
      "11                                         [0.099558234]   \n",
      "...                                                  ...   \n",
      "29099                                       [0.10620453]   \n",
      "29115            [0.108518824, 0.109213956, 0.100652345]   \n",
      "29123                                      [0.097063065]   \n",
      "29128                                      [0.105648525]   \n",
      "29131                                      [0.105648525]   \n",
      "\n",
      "                             catflags  \n",
      "0            [0, 0, 0, 0, 0, 0, 0, 0]  \n",
      "1            [0, 0, 0, 0, 0, 0, 0, 0]  \n",
      "2            [0, 0, 0, 0, 0, 0, 0, 0]  \n",
      "6      [0, 0, 0, 0, 0, 0, 0, 0, 0, 0]  \n",
      "11                                [0]  \n",
      "...                               ...  \n",
      "29099                             [0]  \n",
      "29115                       [0, 0, 0]  \n",
      "29123                             [0]  \n",
      "29128                             [0]  \n",
      "29131                             [0]  \n",
      "\n",
      "[5708 rows x 12 columns]\n",
      "[58771.484 58771.484 58833.344 58833.344 58856.207 58856.21  58860.242\n",
      " 58860.242]\n"
     ]
    },
    {
     "data": {
      "text/plain": [
       "[<matplotlib.lines.Line2D at 0x184a26fabe0>]"
      ]
     },
     "execution_count": 9,
     "metadata": {},
     "output_type": "execute_result"
    },
    {
     "data": {
      "image/png": "[encoded data removed]",
      "text/plain": [
       "<Figure size 432x288 with 1 Axes>"
      ]
     },
     "metadata": {
      "needs_background": "light"
     },
     "output_type": "display_data"
    }
   ],
   "source": [
    "import pyarrow.parquet as pq\n",
    "import matplotlib.pyplot as plt\n",
    "import datetime\n",
    "\n",
    "df = pq.read_table('C:\\Kanti\\Microlensing\\LC-Pakete\\ztf_001896_zr_c10_q3_dr7.parquet').to_pandas()\n",
    "print(df)\n",
    "lc1 = df.loc[2] \n",
    "#df.loc[2].to_excel('C:/Kanti/Microlensing', sheet_name=\"lc_skew\")\n",
    "# # .loc() = Befehl in Pandas, um alle zugehörigen Daten zu gewissem Objekt zu holen \n",
    "mag = lc1['mag']\n",
    "date = lc1['hmjd']\n",
    "\n",
    "# # oids = df['objectid']\n",
    "# # for oid in oids:\n",
    "# #     if oid == 202110100018804:\n",
    "# #         print(oid)\n",
    "# print(df.loc[2])   \n",
    "\n",
    "\n",
    "print(lc1['hmjd'])\n",
    "# t = np.linspace(date,)\n",
    "plt.plot(date, mag, '.', color = 'red')\n",
    "# print(date)\n",
    "#print(datetime.datetime.strptime(str(int(date[0])), '%y%j').strftime('%d.%m.%Y')) \n",
    "# Konvertierung HMJD -> GD; Dezimalstellen wurden nicht erkannt, deshalb int()"
   ]
  }
 ],
 "metadata": {
  "interpreter": {
   "hash": "b3ba2566441a7c06988d0923437866b63cedc61552a5af99d1f4fb67d367b25f"
  },
  "kernelspec": {
   "display_name": "Python 3.9.7 64-bit ('base': conda)",
   "name": "python3"
  },
  "language_info": {
   "codemirror_mode": {
    "name": "ipython",
    "version": 3
   },
   "file_extension": ".py",
   "mimetype": "text/x-python",
   "name": "python",
   "nbconvert_exporter": "python",
   "pygments_lexer": "ipython3",
   "version": "3.9.7"
  },
  "orig_nbformat": 4
 },
 "nbformat": 4,
 "nbformat_minor": 2
}

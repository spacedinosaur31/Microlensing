{
 "cells": [
  {
   "cell_type": "code",
   "execution_count": 1,
   "metadata": {},
   "outputs": [
    {
     "data": {
      "text/plain": [
       "[<matplotlib.lines.Line2D at 0x21381498af0>]"
      ]
     },
     "execution_count": 1,
     "metadata": {},
     "output_type": "execute_result"
    },
    {
     "data": {
      "image/png": "[encoded data removed]",
      "text/plain": [
       "<Figure size 432x288 with 1 Axes>"
      ]
     },
     "metadata": {
      "needs_background": "light"
     },
     "output_type": "display_data"
    }
   ],
   "source": [
    "import numpy as np\n",
    "from matplotlib import pyplot as plt\n",
    "import random \n",
    "from scipy.stats import norm, skew, kurtosis\n",
    "\n",
    "t = np.linspace(-25, 25, 50) #(start, end, Anz. Striche zwischen start und end) -> x-Achse\n",
    "\n",
    "a = []\n",
    "mean = 0\n",
    "standard_deviation = 0.5\n",
    "for i in t:\n",
    "    A = random.gauss(mean, standard_deviation)\n",
    "    a.append(A)\n",
    "\n",
    "plt.figure() #make coordinate system\n",
    "plt.plot(t, a,\".\", color = \"red\")#t,a = lists! -> A(t)+0.2*random -> adds random number to whole list -> for loop to handle each value separately!\n"
   ]
  }
 ],
 "metadata": {
  "interpreter": {
   "hash": "b3ba2566441a7c06988d0923437866b63cedc61552a5af99d1f4fb67d367b25f"
  },
  "kernelspec": {
   "display_name": "Python 3.9.7 64-bit ('base': conda)",
   "name": "python3"
  },
  "language_info": {
   "codemirror_mode": {
    "name": "ipython",
    "version": 3
   },
   "file_extension": ".py",
   "mimetype": "text/x-python",
   "name": "python",
   "nbconvert_exporter": "python",
   "pygments_lexer": "ipython3",
   "version": "3.9.7"
  },
  "orig_nbformat": 4
 },
 "nbformat": 4,
 "nbformat_minor": 2
}

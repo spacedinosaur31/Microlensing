{
 "cells": [
  {
   "cell_type": "code",
   "execution_count": 1,
   "metadata": {},
   "outputs": [
    {
     "ename": "SyntaxError",
     "evalue": "invalid syntax (<ipython-input-1-2848f2afbcf0>, line 49)",
     "output_type": "error",
     "traceback": [
      "\u001b[1;36m  File \u001b[1;32m\"<ipython-input-1-2848f2afbcf0>\"\u001b[1;36m, line \u001b[1;32m49\u001b[0m\n\u001b[1;33m    plt.title(Gaussverteilungen verschiedener Datensätze)\u001b[0m\n\u001b[1;37m                                ^\u001b[0m\n\u001b[1;31mSyntaxError\u001b[0m\u001b[1;31m:\u001b[0m invalid syntax\n"
     ]
    }
   ],
   "source": [
    "import numpy as np\n",
    "t = np.zeros(magpointamount) # (start, end, Anz. Striche zwischen start und end) -> x-Achse\n",
    "# freie Parameter hängen von t ab -> verändern sich mit der Zeit -> Körper bewegen sich\n",
    "mag = np.zeros(magpointamount)\n",
    "umin = random.random()\n",
    "tE = random.randint(1, surveylength) # Zeitdauer, um Einstein-Radius zurückzulegen\n",
    "\n",
    "t = np.array(\n",
    "    random.randint(-(1/2)*surveylength, (1/2)*surveylength)\n",
    "    for \n",
    "    x in range(magpointamount)\n",
    ")\n",
    "np.ndarray.sort(t)\n",
    "negative_skew = np.array(\n",
    "    theo(t[x], umin, tE)  + random.gauss(-2, 1) \n",
    "    for \n",
    "    x in range(magpointamount)\n",
    ")\n",
    "negative_skew.sort()\n",
    "\n",
    "negative_skew_mean = np.mean(negative_skew)\n",
    "negative_skew_std = np.std(negative_skew)\n",
    "negative_gauss = norm.pdf(negative_skew, negative_skew_mean, negative_skew_std)\n",
    "\n",
    "\n",
    "positive_skew = np.array(\n",
    "    random.gauss(-1, 2) \n",
    "    for \n",
    "    x in range(magpointamount)\n",
    ")\n",
    "positive_skew.sort()\n",
    "\n",
    "positive_skew_mean = np.mean(positive_skew)\n",
    "positive_skew_std = np.std(positive_skew)\n",
    "positive_gauss = norm.pdf(positive_skew, positive_skew_mean, positive_skew_std)\n",
    "\n",
    "\n",
    "normal_noise_skew = np.array(\n",
    "    random.gauss(-1, 1) \n",
    "    for \n",
    "    x in range(magpointamount)\n",
    ")\n",
    "normal_noise_skew.sort()\n",
    "\n",
    "normal_noise_skew_mean = np.mean(normal_noise_skew)\n",
    "normal_noise_skew_std = np.std(normal_noise_skew)\n",
    "normal_noise_gauss = norm.pdf(normal_noise_skew, normal_noise_skew_mean, normal_noise_skew_std)\n",
    "\n",
    "\n",
    "plt.figure()\n",
    "plt.title(@Gaussverteilungen verschiedener Datensätze)@\n",
    "plt.plot(negative_skew, positive_gauss)\n",
    "plt.plot(positive_skew, negative_gauss)\n",
    "plt.plot(normal_noise_skew, normal_noise_gauss)\n",
    "plt.show()"
   ]
  }
 ],
 "metadata": {
  "interpreter": {
   "hash": "b3ba2566441a7c06988d0923437866b63cedc61552a5af99d1f4fb67d367b25f"
  },
  "kernelspec": {
   "display_name": "Python 3.9.7 64-bit ('base': conda)",
   "name": "python3"
  },
  "language_info": {
   "codemirror_mode": {
    "name": "ipython",
    "version": 3
   },
   "file_extension": ".py",
   "mimetype": "text/x-python",
   "name": "python",
   "nbconvert_exporter": "python",
   "pygments_lexer": "ipython3",
   "version": "3.9.7"
  },
  "orig_nbformat": 4
 },
 "nbformat": 4,
 "nbformat_minor": 2
}

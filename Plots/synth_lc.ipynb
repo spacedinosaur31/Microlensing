{
 "cells": [
  {
   "cell_type": "code",
   "execution_count": 1,
   "metadata": {},
   "outputs": [
    {
     "name": "stdout",
     "output_type": "stream",
     "text": [
      "Mean:  1.1067043073222913\n",
      "Standard deviation:  0.12931220073556374\n",
      "Skewness:  0.6230681150762364\n",
      "Kurtosis:  -0.583134412619581\n",
      "Variance:  0.016721645259074727\n"
     ]
    },
    {
     "data": {
      "image/png": "[encoded data removed]",
      "text/plain": [
       "<Figure size 432x288 with 1 Axes>"
      ]
     },
     "metadata": {
      "needs_background": "light"
     },
     "output_type": "display_data"
    }
   ],
   "source": [
    "import numpy as np\n",
    "from matplotlib import pyplot as plt\n",
    "import random \n",
    "import statistics as stats #scipy returned mean as list?\n",
    "from scipy.stats import skew, kurtosis\n",
    "\n",
    "#date = np.linspace(-25, 25, 50)\n",
    "D_ol = 1 #in AU Abstand Erde-Linse    #freier Parameter\n",
    "D_ls = 1 #in AU Abstand Linse_Quelle   #freier Parameter\n",
    "D_os = 1 #in AU Abstand Erde-Quelle    #freier Parameter\n",
    "b = 1 #in AU Verschiebung der Linse aus Erde-Quelle-Linie\n",
    "M = 10000000000 #Masse in kg\n",
    "G = 0.0000000000667408 #konst.\n",
    "c = 0.02#AU/s\n",
    "\n",
    "t0=0 #Zeitpunkt max. Helligkeit\n",
    "umin=1\n",
    "vtrans=0.15 #relative Geschwindigkeit Linse\n",
    "rE=1\n",
    "\n",
    "t = np.linspace(-25, 25, 50) #(start, end, Anz. Striche zwischen start und end) -> x-Achse\n",
    "#freie Parameter hängen von t ab -> verändern sich mit der Zeit -> Körper bewegen sich\n",
    "count = 0 \n",
    "\n",
    "#def A(t):  #Helligkeit A abhängig von u, u abhängig von r_e, r_e abhängig von freien Parametern,\n",
    "# welche von t abhängig sind\n",
    "\n",
    "a = []\n",
    "for x in t:\n",
    "    u = np.sqrt(umin**2 + (vtrans*(x-t0)/rE)**2)\n",
    "    A = (u**2 + 2) / (u*np.sqrt(u**2 + 4)) + 0.2*random.uniform(-0.5,0.5) \n",
    "    a.append(A)\n",
    "\n",
    "plt.figure() #make coordinate system\n",
    "plt.plot(t, a,\".\", color = \"red\")#t,a = lists! -> A(t)+0.2*random -> adds random number to whole list -> for loop to handle each value separately!\n",
    "print(\"Mean: \", stats.mean(a))\n",
    "print(\"Standard deviation: \", stats.stdev(a))\n",
    "print(\"Skewness: \", skew(a))\n",
    "print(\"Kurtosis: \", kurtosis(a))\n",
    "print(\"Variance: \", stats.variance(a))"
   ]
  }
 ],
 "metadata": {
  "interpreter": {
   "hash": "b3ba2566441a7c06988d0923437866b63cedc61552a5af99d1f4fb67d367b25f"
  },
  "kernelspec": {
   "display_name": "Python 3.9.7 64-bit ('base': conda)",
   "name": "python3"
  },
  "language_info": {
   "codemirror_mode": {
    "name": "ipython",
    "version": 3
   },
   "file_extension": ".py",
   "mimetype": "text/x-python",
   "name": "python",
   "nbconvert_exporter": "python",
   "pygments_lexer": "ipython3",
   "version": "3.9.7"
  },
  "orig_nbformat": 4
 },
 "nbformat": 4,
 "nbformat_minor": 2
}

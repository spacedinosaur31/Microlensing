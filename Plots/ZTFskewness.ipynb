{
 "cells": [
  {
   "cell_type": "code",
   "execution_count": 2,
   "metadata": {},
   "outputs": [
    {
     "name": "stdout",
     "output_type": "stream",
     "text": [
      "objectid                                      245101100000002\n",
      "filterid                                                    1\n",
      "fieldid                                                   245\n",
      "rcid                                                        0\n",
      "objra                                                4.272847\n",
      "objdec                                             -26.238504\n",
      "nepochs                                                    37\n",
      "hmjd        [58313.48326, 58320.46258, 58329.46351, 58332....\n",
      "mag         [18.340004, 18.24857, 18.294651, 18.277271, 18...\n",
      "magerr      [0.050066117, 0.047066536, 0.048549846, 0.0479...\n",
      "clrcoeff    [-0.02220841, -0.0025737197, -0.025462627, 0.0...\n",
      "catflags    [0, 0, 0, 0, 0, 0, 0, 32768, 0, 0, 0, 0, 0, 0,...\n",
      "Name: 2, dtype: object\n",
      "Kurtosis:  0.9521463902493834\n",
      "Skewness:  0.9325215779046399\n"
     ]
    },
    {
     "data": {
      "image/png": "[encoded data removed]",
      "text/plain": [
       "<Figure size 432x288 with 1 Axes>"
      ]
     },
     "metadata": {
      "needs_background": "light"
     },
     "output_type": "display_data"
    }
   ],
   "source": [
    "import pyarrow.parquet as pq\n",
    "from pandas import DataFrame\n",
    "import numpy as np\n",
    "from scipy.stats import norm, skew, kurtosis\n",
    "from matplotlib import pyplot as plt\n",
    "df = pq.read_table(\"ztf_000245_zg_c01_q1_dr11.parquet\").to_pandas()\n",
    "lc_table = df.loc[2] \n",
    "\n",
    "print(lc_table) #len(mag) = 37\n",
    "mag1 = lc_table[\"mag\"]\n",
    "mag = []\n",
    "for i in mag1:\n",
    "    mag.append(i)\n",
    "\n",
    "x = mag\n",
    "x.sort() #sonst chaotisches herumspringen\n",
    "x_mean = np.mean(x) #Mittelwert\n",
    "x_std = np.std(x) #Standardabweichung\n",
    "pdf = norm.pdf(x, x_mean, x_std) #probability distribution function\n",
    "plt.plot(x, pdf)\n",
    "print(\"Kurtosis: \", kurtosis(x))\n",
    "print(\"Skewness: \", skew(x))\n",
    "\n",
    "\n",
    "\n",
    "\n"
   ]
  }
 ],
 "metadata": {
  "interpreter": {
   "hash": "b3ba2566441a7c06988d0923437866b63cedc61552a5af99d1f4fb67d367b25f"
  },
  "kernelspec": {
   "display_name": "Python 3.9.7 64-bit ('base': conda)",
   "name": "python3"
  },
  "language_info": {
   "codemirror_mode": {
    "name": "ipython",
    "version": 3
   },
   "file_extension": ".py",
   "mimetype": "text/x-python",
   "name": "python",
   "nbconvert_exporter": "python",
   "pygments_lexer": "ipython3",
   "version": "3.9.7"
  },
  "orig_nbformat": 4
 },
 "nbformat": 4,
 "nbformat_minor": 2
}

{
 "cells": [
  {
   "cell_type": "code",
   "execution_count": null,
   "metadata": {},
   "outputs": [],
   "source": [
    "# -*- coding: utf-8 -*-\n",
    "\"\"\"\n",
    "Created on Sun Mar 13 10:22:25 2022\n",
    "\n",
    "@author: lamia\n",
    "\"\"\"\n",
    "from importlib.resources import path\n",
    "import matplotlib.pyplot as plt\n",
    "import numpy as np\n",
    "import pyarrow.parquet as pq\n",
    "import os \n",
    "\n",
    "#A = Magnitude\n",
    "df = pq.read_table(\"C:\\Kanti\\Microlensing\\LC-Pakete\\ztf_001896_zr_c10_q3_dr7.parquet\").to_pandas()\n",
    "lc1 = df.loc[2]\n",
    "mag = lc1['mag']\n",
    "date = lc1['hmjd']\n",
    "D_ol = 1 #in AU Abstand Erde-Linse    #freier Parameter\n",
    "D_ls = 1 #in AU Abstand Linse_Quelle   #freier Parameter\n",
    "D_os = 1 #in AU Abstand Erde-Quelle    #freier Parameter\n",
    "b = 1 #in AU Verschiebung der Linse aus Erde-Quelle-Linie\n",
    "M = 10000000000 #Masse in kg\n",
    "G = 0.0000000000667408 #konst.\n",
    "c = 0.02#AU/s\n",
    "\n",
    "t0=0 #Zeitpunkt max. Helligkeit\n",
    "umin=1\n",
    "vtrans=1 #relative Geschwindigkeit Linse\n",
    "rE=1 \n",
    "\n",
    "t = np.linspace(-10, 10, 20000) #(start, end, Anz. Striche zwischen start und end) -> x-Achse\n",
    "#freie Parameter hängen von t ab -> verändern sich mit der Zeit -> Körper bewegen sich\n",
    "count = 0 \n",
    "\n",
    "def A(t):  #Helligkeit A abhängig von u, u abhängig von r_e, r_e abhängig von freien Parametern,\n",
    "# welche von t abhängig sind\n",
    "\n",
    "    u = np.sqrt(umin**2 + (vtrans*(t-t0)/rE)**2)\n",
    "    A = (u**2 + 2) / (u*np.sqrt(u**2 + 4))\n",
    "    return A \n",
    "def mag(A): #Umrechnung Helligkeit in Magnitude\n",
    "    \n",
    "    \n",
    "\n",
    "plt.figure()\n",
    "plt.plot(t, A(t),\"-\", color = \"red\")\n",
    "plt.show()"
   ]
  }
 ],
 "metadata": {
  "language_info": {
   "name": "python"
  },
  "orig_nbformat": 4
 },
 "nbformat": 4,
 "nbformat_minor": 2
}
